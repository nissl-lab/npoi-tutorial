{
 "cells": [
  {
   "cell_type": "code",
   "execution_count": 15,
   "metadata": {
    "dotnet_interactive": {
     "language": "csharp"
    },
    "polyglot_notebook": {
     "kernelName": "csharp"
    },
    "vscode": {
     "languageId": "polyglot-notebook"
    }
   },
   "outputs": [
    {
     "data": {
      "text/html": [
       "<div><div></div><div></div><div><strong>Installed Packages</strong><ul><li><span>NPOI, 2.7.3</span></li></ul></div></div>"
      ]
     },
     "metadata": {},
     "output_type": "display_data"
    }
   ],
   "source": [
    "#r \"nuget: NPOI\"\n",
    "\n",
    "using NPOI.XSSF.UserModel;\n",
    "using System.IO;\n",
    "using NPOI.SS.UserModel;\n",
    "using NPOI.OOXML.XSSF.UserModel;\n",
    "\n",
    "var wb = new XSSFWorkbook();\n",
    "var sheet = wb.CreateSheet(\"Sheet1\");"
   ]
  },
  {
   "cell_type": "code",
   "execution_count": null,
   "metadata": {
    "dotnet_interactive": {
     "language": "csharp"
    },
    "polyglot_notebook": {
     "kernelName": "csharp"
    },
    "vscode": {
     "languageId": "polyglot-notebook"
    }
   },
   "outputs": [
    {
     "ename": "Error",
     "evalue": "(8,12): error CS1501: No overload for method 'SetFillBackgroundColor' takes 2 arguments",
     "output_type": "error",
     "traceback": [
      "(8,12): error CS1501: No overload for method 'SetFillBackgroundColor' takes 2 arguments"
     ]
    }
   ],
   "source": [
    "var cell1 = sheet.CreateRow(0).CreateCell(0);\n",
    "var cellstyle1 = (XSSFCellStyle)wb.CreateCellStyle();\n",
    "\n",
    "byte[] rgb = {255, 221, 221};\n",
    "var customcolor= new XSSFColor(rgb);\n",
    "\n",
    "cellstyle1.FillPattern = FillPattern.SolidForeground;\n",
    "cellstyle1.SetFillForegroundColor(customcolor);\n",
    "cell1.CellStyle = cellstyle1;"
   ]
  },
  {
   "cell_type": "markdown",
   "metadata": {},
   "source": [
    "//save the word document to file"
   ]
  },
  {
   "cell_type": "code",
   "execution_count": 14,
   "metadata": {
    "dotnet_interactive": {
     "language": "csharp"
    },
    "polyglot_notebook": {
     "kernelName": "csharp"
    },
    "vscode": {
     "languageId": "polyglot-notebook"
    }
   },
   "outputs": [],
   "source": [
    "using (var fs = new FileStream(\"sample.xlsx\", FileMode.Create))\n",
    "{\n",
    "    wb.Write(fs);\n",
    "}"
   ]
  }
 ],
 "metadata": {
  "kernelspec": {
   "display_name": ".NET (C#)",
   "language": "C#",
   "name": ".net-csharp"
  },
  "language_info": {
   "name": "python"
  },
  "polyglot_notebook": {
   "kernelInfo": {
    "defaultKernelName": "csharp",
    "items": [
     {
      "aliases": [],
      "name": "csharp"
     }
    ]
   }
  }
 },
 "nbformat": 4,
 "nbformat_minor": 2
}

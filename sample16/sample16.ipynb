{
 "cells": [
  {
   "cell_type": "code",
   "execution_count": 9,
   "id": "acc59bfc",
   "metadata": {
    "vscode": {
     "languageId": "polyglot-notebook"
    }
   },
   "outputs": [
    {
     "data": {
      "text/html": [
       "<div><div></div><div></div><div><strong>Installed Packages</strong><ul><li><span>ExcelMapper, 6.0.609</span></li></ul></div></div>"
      ]
     },
     "metadata": {},
     "output_type": "display_data"
    }
   ],
   "source": [
    "#r \"nuget: ExcelMapper\"\n",
    "\n",
    "using Ganss.Excel;"
   ]
  },
  {
   "cell_type": "markdown",
   "id": "dfbdcbd8",
   "metadata": {},
   "source": [
    "Define Product class"
   ]
  },
  {
   "cell_type": "code",
   "execution_count": 10,
   "id": "d88d7464",
   "metadata": {
    "vscode": {
     "languageId": "polyglot-notebook"
    }
   },
   "outputs": [],
   "source": [
    "public class Product\n",
    "{\n",
    "    public string Name { get; set; }\n",
    "    public int NumberInStock { get; set; }\n",
    "    public decimal Price { get; set; }\n",
    "}"
   ]
  },
  {
   "cell_type": "markdown",
   "id": "1c1a146e",
   "metadata": {},
   "source": [
    "Fill in data and save "
   ]
  },
  {
   "cell_type": "code",
   "execution_count": 11,
   "id": "e927e891",
   "metadata": {
    "vscode": {
     "languageId": "polyglot-notebook"
    }
   },
   "outputs": [],
   "source": [
    "var products = new List<Product>\n",
    "{\n",
    "    new Product { Name = \"Nudossi\", NumberInStock = 60, Price = 1.99m },\n",
    "    new Product { Name = \"Halloren\", NumberInStock = 33, Price = 2.99m },\n",
    "    new Product { Name = \"Filinchen\", NumberInStock = 100, Price = 0.99m },\n",
    "};\n",
    "\n",
    "new ExcelMapper().Save(\"products.xlsx\", products, \"Products\");"
   ]
  },
  {
   "cell_type": "markdown",
   "id": "49766490",
   "metadata": {},
   "source": [
    "For more samples, please go to https://github.com/mganss/ExcelMapper"
   ]
  }
 ],
 "metadata": {
  "kernelspec": {
   "display_name": ".NET (C#)",
   "language": "C#",
   "name": ".net-csharp"
  },
  "language_info": {
   "name": "python"
  },
  "polyglot_notebook": {
   "kernelInfo": {
    "defaultKernelName": "csharp",
    "items": [
     {
      "aliases": [],
      "name": "csharp"
     }
    ]
   }
  }
 },
 "nbformat": 4,
 "nbformat_minor": 5
}

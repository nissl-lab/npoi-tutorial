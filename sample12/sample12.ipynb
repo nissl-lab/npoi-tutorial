{
 "cells": [
  {
   "cell_type": "code",
   "execution_count": 5,
   "id": "69647290",
   "metadata": {
    "vscode": {
     "languageId": "polyglot-notebook"
    }
   },
   "outputs": [
    {
     "data": {
      "text/html": [
       "<div><div></div><div></div><div><strong>Installed Packages</strong><ul><li><span>NPOI, 2.7.3</span></li></ul></div></div>"
      ]
     },
     "metadata": {},
     "output_type": "display_data"
    }
   ],
   "source": [
    "#r \"nuget: NPOI\"\n",
    "\n",
    "using NPOI.XWPF.UserModel;\n",
    "using System.IO;\n",
    "\n",
    "var doc = new XWPFDocument();"
   ]
  },
  {
   "cell_type": "code",
   "execution_count": 6,
   "id": "5974bae1",
   "metadata": {
    "vscode": {
     "languageId": "polyglot-notebook"
    }
   },
   "outputs": [],
   "source": [
    "XWPFNumbering numbering = doc.CreateNumbering();\n",
    "\n",
    "string abstractNumId = numbering.AddAbstractNum();\n",
    "string numId = numbering.AddNum(abstractNumId);\n",
    "\n",
    "XWPFParagraph p0 = doc.CreateParagraph();\n",
    "XWPFRun r0 = p0.CreateRun();\n",
    "r0.SetText(\"simple bullet\");\n",
    "r0.IsBold = true;\n",
    "r0.FontFamily = \"Courier\";\n",
    "r0.FontSize = 12;\n",
    "\n",
    "XWPFParagraph p1 = doc.CreateParagraph();\n",
    "XWPFRun r1 = p1.CreateRun();\n",
    "r1.SetText(\"first, create paragraph and run, set text\");\n",
    "p1.SetNumID(numId);\n",
    "\n",
    "XWPFParagraph p2 = doc.CreateParagraph();\n",
    "XWPFRun r2 = p2.CreateRun();\n",
    "r2.SetText(\"second, call XWPFDocument.CreateNumbering() to create numbering\");\n",
    "p2.SetNumID(numId);\n",
    "\n",
    "XWPFParagraph p3 = doc.CreateParagraph();\n",
    "XWPFRun r3 = p3.CreateRun();\n",
    "r3.SetText(\"third, add AbstractNum[numbering.AddAbstractNum()] and Num(numbering.AddNum(abstractNumId))\");\n",
    "p3.SetNumID(numId);\n",
    "\n",
    "XWPFParagraph p4 = doc.CreateParagraph();\n",
    "XWPFRun r4 = p4.CreateRun();\n",
    "r4.SetText(\"next, call XWPFParagraph.SetNumID(numId) to set paragraph property, CT_P.pPr.numPr\");\n",
    "p4.SetNumID(numId);"
   ]
  },
  {
   "cell_type": "markdown",
   "id": "72d03404",
   "metadata": {},
   "source": [
    "multi-level bulleting"
   ]
  },
  {
   "cell_type": "code",
   "execution_count": 7,
   "id": "fdfa6ca0",
   "metadata": {
    "vscode": {
     "languageId": "polyglot-notebook"
    }
   },
   "outputs": [],
   "source": [
    "abstractNumId = numbering.AddAbstractNum();\n",
    "numId = numbering.AddNum(abstractNumId);\n",
    "doc.CreateParagraph();\n",
    "doc.CreateParagraph();\n",
    "\n",
    "p1 = doc.CreateParagraph();\n",
    "r1 = p1.CreateRun();\n",
    "r1.SetText(\"multi level bullet\");\n",
    "r1.IsBold = true;\n",
    "r1.FontFamily = \"Courier\";\n",
    "r1.FontSize = 12;\n",
    "\n",
    "p1 = doc.CreateParagraph();\n",
    "r1 = p1.CreateRun();\n",
    "r1.SetText(\"first\");\n",
    "p1.SetNumID(numId, \"0\");\n",
    "\n",
    "p1 = doc.CreateParagraph();\n",
    "r1 = p1.CreateRun();\n",
    "r1.SetText(\"first-first\");\n",
    "p1.SetNumID(numId, \"1\");\n",
    "\n",
    "p1 = doc.CreateParagraph();\n",
    "r1 = p1.CreateRun();\n",
    "r1.SetText(\"first-second\");\n",
    "p1.SetNumID(numId, \"1\");\n",
    "\n",
    "p1 = doc.CreateParagraph();\n",
    "r1 = p1.CreateRun();\n",
    "r1.SetText(\"first-third\");\n",
    "p1.SetNumID(numId, \"1\");\n",
    "\n",
    "p1 = doc.CreateParagraph();\n",
    "r1 = p1.CreateRun();\n",
    "r1.SetText(\"second\");\n",
    "p1.SetNumID(numId, \"0\");\n",
    "\n",
    "p1 = doc.CreateParagraph();\n",
    "r1 = p1.CreateRun();\n",
    "r1.SetText(\"second-first\");\n",
    "p1.SetNumID(numId, \"1\");\n",
    "\n",
    "p1 = doc.CreateParagraph();\n",
    "r1 = p1.CreateRun();\n",
    "r1.SetText(\"second-second\");\n",
    "p1.SetNumID(numId, \"1\");\n",
    "\n",
    "p1 = doc.CreateParagraph();\n",
    "r1 = p1.CreateRun();\n",
    "r1.SetText(\"second-third\");\n",
    "p1.SetNumID(numId, \"1\");\n",
    "\n",
    "p1 = doc.CreateParagraph();\n",
    "r1 = p1.CreateRun();\n",
    "r1.SetText(\"second-third-first\");\n",
    "p1.SetNumID(numId, \"2\");\n",
    "\n",
    "p1 = doc.CreateParagraph();\n",
    "r1 = p1.CreateRun();\n",
    "r1.SetText(\"second-third-second\");\n",
    "p1.SetNumID(numId, \"2\");\n",
    "\n",
    "p1 = doc.CreateParagraph();\n",
    "r1 = p1.CreateRun();\n",
    "r1.SetText(\"third\");\n",
    "p1.SetNumID(numId, \"0\");"
   ]
  },
  {
   "cell_type": "code",
   "execution_count": 8,
   "id": "c94017ca",
   "metadata": {
    "vscode": {
     "languageId": "polyglot-notebook"
    }
   },
   "outputs": [],
   "source": [
    "using (var fs = new FileStream(\"sample.docx\", FileMode.Create))\n",
    "{\n",
    "    doc.Write(fs);\n",
    "}"
   ]
  }
 ],
 "metadata": {
  "kernelspec": {
   "display_name": ".NET (C#)",
   "language": "C#",
   "name": ".net-csharp"
  },
  "language_info": {
   "name": "python"
  },
  "polyglot_notebook": {
   "kernelInfo": {
    "defaultKernelName": "csharp",
    "items": [
     {
      "aliases": [],
      "name": "csharp"
     }
    ]
   }
  }
 },
 "nbformat": 4,
 "nbformat_minor": 5
}

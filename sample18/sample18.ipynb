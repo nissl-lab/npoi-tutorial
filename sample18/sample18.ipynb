{
 "cells": [
  {
   "cell_type": "code",
   "execution_count": 1,
   "id": "8aa277c3",
   "metadata": {
    "polyglot_notebook": {
     "kernelName": "csharp"
    }
   },
   "outputs": [
    {
     "data": {
      "text/html": [
       "<div><div></div><div></div><div><strong>Installed Packages</strong><ul><li><span>NPOI, 2.7.4</span></li></ul></div></div>"
      ]
     },
     "metadata": {},
     "output_type": "display_data"
    }
   ],
   "source": [
    "#r \"nuget: NPOI\"\n",
    "\n",
    "using NPOI;\n",
    "using NPOI.XWPF.UserModel;\n",
    "using System.IO;"
   ]
  },
  {
   "cell_type": "code",
   "execution_count": 2,
   "id": "ec006c8b",
   "metadata": {
    "polyglot_notebook": {
     "kernelName": "csharp"
    }
   },
   "outputs": [],
   "source": [
    "using (XWPFDocument doc = new XWPFDocument())\n",
    "{\n",
    "    XWPFParagraph paragraph = doc.CreateParagraph();\n",
    "    XWPFRun run = paragraph.CreateRun();\n",
    "    run.SetText(\"The Body:\");\n",
    "    var hfPolicy = doc.CreateHeaderFooterPolicy();\n",
    "    hfPolicy.CreateWatermark(\"My Watermark\");\n",
    "\n",
    "\n",
    "    using (FileStream fs = new FileStream(\"watermark.docx\", FileMode.Create))\n",
    "    {\n",
    "        doc.Write(fs);\n",
    "    }\n",
    "}"
   ]
  }
 ],
 "metadata": {
  "kernelspec": {
   "display_name": ".NET (C#)",
   "language": "C#",
   "name": ".net-csharp"
  },
  "language_info": {
   "name": "polyglot-notebook"
  },
  "polyglot_notebook": {
   "kernelInfo": {
    "defaultKernelName": "csharp",
    "items": [
     {
      "aliases": [],
      "name": "csharp"
     }
    ]
   }
  }
 },
 "nbformat": 4,
 "nbformat_minor": 5
}

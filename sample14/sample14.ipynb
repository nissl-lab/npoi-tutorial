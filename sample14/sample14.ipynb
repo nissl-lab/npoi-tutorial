{
 "cells": [
  {
   "cell_type": "code",
   "execution_count": 10,
   "id": "35cffcaf",
   "metadata": {
    "vscode": {
     "languageId": "polyglot-notebook"
    }
   },
   "outputs": [
    {
     "data": {
      "text/html": [
       "<div><div></div><div></div><div><strong>Installed Packages</strong><ul><li><span>NPOI, 2.7.3</span></li></ul></div></div>"
      ]
     },
     "metadata": {},
     "output_type": "display_data"
    }
   ],
   "source": [
    "#r \"nuget: NPOI\"\n",
    "\n",
    "using NPOI.XWPF.UserModel;\n",
    "using NPOI.OpenXmlFormats.Wordprocessing;\n",
    "using System.IO;\n",
    "\n",
    "var doc = new XWPFDocument();"
   ]
  },
  {
   "cell_type": "code",
   "execution_count": null,
   "id": "cb7d05dd",
   "metadata": {
    "vscode": {
     "languageId": "polyglot-notebook"
    }
   },
   "outputs": [],
   "source": [
    "XWPFDocument doc = new XWPFDocument();\n",
    "XWPFTable table1 = doc.CreateTable(3, 3);\n",
    "var tblLayout1 = table1.GetCTTbl().tblPr.AddNewTblLayout();\n",
    "tblLayout1.type = ST_TblLayoutType.@fixed;\n",
    "table1.SetColumnWidth(0, 1200);\n",
    "table1.SetColumnWidth(1, 1200);\n",
    "table1.SetColumnWidth(2, 1200);\n",
    "\n",
    "for(var i=0;i<3;i++)\n",
    "    for(var j=0;j<3;j++)\n",
    "    {\n",
    "        var para=table1.GetRow(i).GetCell(j).GetParagraphArray(0);\n",
    "        para.CreateRun().SetText(\"This is a test\");\n",
    "    }"
   ]
  },
  {
   "cell_type": "code",
   "execution_count": 12,
   "id": "9c518775",
   "metadata": {
    "vscode": {
     "languageId": "polyglot-notebook"
    }
   },
   "outputs": [],
   "source": [
    "using (var fs = new FileStream(\"sample.docx\", FileMode.Create))\n",
    "{\n",
    "    doc.Write(fs);\n",
    "}"
   ]
  }
 ],
 "metadata": {
  "kernelspec": {
   "display_name": ".NET (C#)",
   "language": "C#",
   "name": ".net-csharp"
  },
  "language_info": {
   "name": "python"
  },
  "polyglot_notebook": {
   "kernelInfo": {
    "defaultKernelName": "csharp",
    "items": [
     {
      "aliases": [],
      "name": "csharp"
     }
    ]
   }
  }
 },
 "nbformat": 4,
 "nbformat_minor": 5
}

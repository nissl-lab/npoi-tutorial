{
 "cells": [
  {
   "cell_type": "code",
   "execution_count": 3,
   "id": "8aa277c3",
   "metadata": {
    "vscode": {
     "languageId": "polyglot-notebook"
    }
   },
   "outputs": [
    {
     "data": {
      "text/html": [
       "<div><div></div><div></div><div><strong>Installed Packages</strong><ul><li><span>NPOI, 2.7.3</span></li></ul></div></div>"
      ]
     },
     "metadata": {},
     "output_type": "display_data"
    }
   ],
   "source": [
    "#r \"nuget: NPOI\"\n",
    "\n",
    "using NPOI;\n",
    "using NPOI.XWPF.UserModel;\n",
    "using System.IO;"
   ]
  },
  {
   "cell_type": "code",
   "execution_count": 9,
   "id": "ec006c8b",
   "metadata": {
    "vscode": {
     "languageId": "polyglot-notebook"
    }
   },
   "outputs": [
    {
     "name": "stdout",
     "output_type": "stream",
     "text": [
      "This is a test\n",
      "Qu Tony\n",
      "Confidential\n",
      "remark1\n"
     ]
    }
   ],
   "source": [
    "using (var fs = File.OpenRead(\"properties.docx\"))\n",
    "{\n",
    "    // Load the document\n",
    "    using(var doc = new XWPFDocument(fs))\n",
    "    {\n",
    "        var xmldocument = (POIXMLDocument)doc;\n",
    "\n",
    "        //print the core properties\n",
    "        Console.WriteLine(xmldocument.GetProperties().CoreProperties.Title);\n",
    "        Console.WriteLine(xmldocument.GetProperties().CoreProperties.Creator);\n",
    "        Console.WriteLine(xmldocument.GetProperties().CoreProperties.Category);\n",
    "        Console.WriteLine(xmldocument.GetProperties().CoreProperties.Description);\n",
    "    }\n",
    "}"
   ]
  }
 ],
 "metadata": {
  "kernelspec": {
   "display_name": ".NET (C#)",
   "language": "C#",
   "name": ".net-csharp"
  },
  "language_info": {
   "name": "python"
  },
  "polyglot_notebook": {
   "kernelInfo": {
    "defaultKernelName": "csharp",
    "items": [
     {
      "aliases": [],
      "name": "csharp"
     }
    ]
   }
  }
 },
 "nbformat": 4,
 "nbformat_minor": 5
}

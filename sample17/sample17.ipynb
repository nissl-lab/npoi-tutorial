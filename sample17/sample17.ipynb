{
 "cells": [
  {
   "cell_type": "code",
   "execution_count": 2,
   "id": "8aa277c3",
   "metadata": {
    "polyglot_notebook": {
     "kernelName": "csharp"
    },
    "vscode": {
     "languageId": "polyglot-notebook"
    }
   },
   "outputs": [
    {
     "data": {
      "text/html": [
       "<div><div></div><div></div><div><strong>Installed Packages</strong><ul><li><span>NPOI, 2.7.3</span></li></ul></div></div>"
      ]
     },
     "metadata": {},
     "output_type": "display_data"
    }
   ],
   "source": [
    "#r \"nuget: NPOI\"\n",
    "\n",
    "using NPOI;\n",
    "using NPOI.XWPF.UserModel;\n",
    "using System.IO;"
   ]
  },
  {
   "cell_type": "code",
   "execution_count": null,
   "id": "ec006c8b",
   "metadata": {
    "polyglot_notebook": {
     "kernelName": "csharp"
    },
    "vscode": {
     "languageId": "polyglot-notebook"
    }
   },
   "outputs": [
    {
     "ename": "Error",
     "evalue": "(15,30): error CS1579: foreach statement cannot operate on variables of type 'CustomProperties' because 'CustomProperties' does not contain a public instance or extension definition for 'GetEnumerator'",
     "output_type": "error",
     "traceback": [
      "(15,30): error CS1579: foreach statement cannot operate on variables of type 'CustomProperties' because 'CustomProperties' does not contain a public instance or extension definition for 'GetEnumerator'"
     ]
    }
   ],
   "source": [
    "using (var fs = File.OpenRead(\"properties.docx\"))\n",
    "{\n",
    "    // Load the document\n",
    "    using(var doc = new XWPFDocument(fs))\n",
    "    {\n",
    "        var xmldocument = (POIXMLDocument)doc;\n",
    "\n",
    "        //print the core properties\n",
    "        Console.WriteLine(xmldocument.GetProperties().CoreProperties.Title);\n",
    "        Console.WriteLine(xmldocument.GetProperties().CoreProperties.Creator);\n",
    "        Console.WriteLine(xmldocument.GetProperties().CoreProperties.Category);\n",
    "        Console.WriteLine(xmldocument.GetProperties().CoreProperties.Description);\n",
    "\n",
    "        //print the custom properties\n",
    "        foreach (var prop in xmldocument.GetProperties().CustomProperties.GetUnderlyingProperties().GetPropertyList())\n",
    "        {\n",
    "            Console.WriteLine($\"{prop.name}: {prop.Item}\");\n",
    "        }\n",
    "    }\n",
    "}"
   ]
  }
 ],
 "metadata": {
  "kernelspec": {
   "display_name": ".NET (C#)",
   "language": "C#",
   "name": ".net-csharp"
  },
  "language_info": {
   "name": "python"
  },
  "polyglot_notebook": {
   "kernelInfo": {
    "defaultKernelName": "csharp",
    "items": [
     {
      "aliases": [],
      "name": "csharp"
     }
    ]
   }
  }
 },
 "nbformat": 4,
 "nbformat_minor": 5
}

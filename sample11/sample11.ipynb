{
 "cells": [
  {
   "cell_type": "code",
   "execution_count": 1,
   "id": "59fbfe8c",
   "metadata": {
    "polyglot_notebook": {
     "kernelName": "csharp"
    },
    "vscode": {
     "languageId": "polyglot-notebook"
    }
   },
   "outputs": [
    {
     "data": {
      "text/html": [
       "<div><div></div><div></div><div><strong>Installed Packages</strong><ul><li><span>NPOI, 2.7.3</span></li></ul></div></div>"
      ]
     },
     "metadata": {},
     "output_type": "display_data"
    }
   ],
   "source": [
    "#r \"nuget: NPOI\"\n",
    "\n",
    "using NPOI.XWPF.UserModel;\n",
    "using System.IO;\n",
    "\n",
    "var doc = new XWPFDocument();"
   ]
  },
  {
   "cell_type": "markdown",
   "id": "79c2eecd",
   "metadata": {},
   "source": [
    "Add text with new line in a paragraph"
   ]
  },
  {
   "cell_type": "code",
   "execution_count": null,
   "id": "91cf3167",
   "metadata": {
    "polyglot_notebook": {
     "kernelName": "csharp"
    },
    "vscode": {
     "languageId": "polyglot-notebook"
    }
   },
   "outputs": [],
   "source": [
    "var para1 = doc.CreateParagraph();\n",
    "var r1= para1.CreateRun();\n",
    "r1.SetText(\"This is \");\n",
    "r1.AddCarriageReturn();     // Add a new line\n",
    "var r2 = para1.CreateRun();\n",
    "r2.SetText(\"a test\");\n"
   ]
  },
  {
   "cell_type": "markdown",
   "id": "fc6cd331",
   "metadata": {},
   "source": [
    "Add text with new line in a table"
   ]
  },
  {
   "cell_type": "code",
   "execution_count": 3,
   "id": "c835b130",
   "metadata": {
    "polyglot_notebook": {
     "kernelName": "csharp"
    },
    "vscode": {
     "languageId": "polyglot-notebook"
    }
   },
   "outputs": [],
   "source": [
    "XWPFTable table = doc.CreateTable(1, 2);\n",
    "var para_cell1 = table.GetRow(0).GetCell(0).GetParagraphArray(0);\n",
    "var run_cell1 = para_cell1.CreateRun();\n",
    "run_cell1.SetText(\"This is\");\n",
    "var para_cell2 = table.GetRow(0).GetCell(0).AddParagraph();\n",
    "var run_cell2 = para_cell2.CreateRun();\n",
    "run_cell2.SetText(\"a test\");\n",
    "\n",
    "//add a normal text to compare\n",
    "var para_cell3 = table.GetRow(0).GetCell(1).GetParagraphArray(0);\n",
    "var run_cell3 = para_cell3.CreateRun();\n",
    "run_cell3.SetText(\"This is a test\");\n"
   ]
  },
  {
   "cell_type": "code",
   "execution_count": 4,
   "id": "5086a142",
   "metadata": {
    "polyglot_notebook": {
     "kernelName": "csharp"
    },
    "vscode": {
     "languageId": "polyglot-notebook"
    }
   },
   "outputs": [],
   "source": [
    "using (var fs = new FileStream(\"sample.docx\", FileMode.Create))\n",
    "{\n",
    "    doc.Write(fs);\n",
    "}"
   ]
  }
 ],
 "metadata": {
  "kernelspec": {
   "display_name": ".NET (C#)",
   "language": "C#",
   "name": ".net-csharp"
  },
  "language_info": {
   "name": "python"
  },
  "polyglot_notebook": {
   "kernelInfo": {
    "defaultKernelName": "csharp",
    "items": [
     {
      "aliases": [],
      "name": "csharp"
     }
    ]
   }
  }
 },
 "nbformat": 4,
 "nbformat_minor": 5
}

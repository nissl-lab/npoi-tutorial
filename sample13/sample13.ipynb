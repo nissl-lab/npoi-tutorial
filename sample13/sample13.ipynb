{
 "cells": [
  {
   "cell_type": "code",
   "execution_count": null,
   "id": "e0e1808b",
   "metadata": {
    "vscode": {
     "languageId": "polyglot-notebook"
    }
   },
   "outputs": [
    {
     "data": {
      "text/html": [
       "<div><div></div><div></div><div><strong>Installed Packages</strong><ul><li><span>NPOI, 2.7.3</span></li></ul></div></div>"
      ]
     },
     "metadata": {},
     "output_type": "display_data"
    }
   ],
   "source": [
    "#r \"nuget: NPOI\"\n",
    "\n",
    "using NPOI.XWPF.UserModel;\n",
    "using NPOI.XWPF.Model;\n",
    "using System.IO;\n",
    "\n",
    "var doc = new XWPFDocument();"
   ]
  },
  {
   "cell_type": "markdown",
   "id": "f45bfaa7",
   "metadata": {},
   "source": [
    "setup the body content"
   ]
  },
  {
   "cell_type": "code",
   "execution_count": 5,
   "id": "19874d0d",
   "metadata": {
    "vscode": {
     "languageId": "polyglot-notebook"
    }
   },
   "outputs": [],
   "source": [
    "XWPFParagraph paragraph = doc.CreateParagraph();\n",
    "XWPFRun run = paragraph.CreateRun();\n",
    "run.SetText(\"The Body:\");\n",
    "\n",
    "paragraph = doc.CreateParagraph();\n",
    "run = paragraph.CreateRun();\n",
    "run.SetText(\"Lorem ipsum.... page 1\");\n",
    "\n",
    "paragraph = doc.CreateParagraph();\n",
    "run = paragraph.CreateRun();\n",
    "run.AddBreak(BreakType.PAGE);\n",
    "run.SetText(\"Lorem ipsum.... page 2\");\n",
    "\n",
    "paragraph = doc.CreateParagraph();\n",
    "run = paragraph.CreateRun();\n",
    "run.AddBreak(BreakType.PAGE);\n",
    "run.SetText(\"Lorem ipsum.... page 3\");"
   ]
  },
  {
   "cell_type": "code",
   "execution_count": 6,
   "id": "8f9979fc",
   "metadata": {
    "vscode": {
     "languageId": "polyglot-notebook"
    }
   },
   "outputs": [
    {
     "ename": "Error",
     "evalue": "(1,1): error CS0246: The type or namespace name 'XWPFHeaderFooterPolicy' could not be found (are you missing a using directive or an assembly reference?)",
     "output_type": "error",
     "traceback": [
      "(1,1): error CS0246: The type or namespace name 'XWPFHeaderFooterPolicy' could not be found (are you missing a using directive or an assembly reference?)"
     ]
    }
   ],
   "source": [
    "XWPFHeaderFooterPolicy headerFooterPolicy = doc.GetHeaderFooterPolicy();\n",
    "if (headerFooterPolicy == null) \n",
    "    headerFooterPolicy = doc.CreateHeaderFooterPolicy();"
   ]
  },
  {
   "cell_type": "markdown",
   "id": "9c6d5fa9",
   "metadata": {},
   "source": [
    "create header"
   ]
  },
  {
   "cell_type": "code",
   "execution_count": 7,
   "id": "298d3f82",
   "metadata": {
    "vscode": {
     "languageId": "polyglot-notebook"
    }
   },
   "outputs": [
    {
     "ename": "Error",
     "evalue": "(1,21): error CS0103: The name 'headerFooterPolicy' does not exist in the current context\r\n(1,53): error CS0103: The name 'XWPFHeaderFooterPolicy' does not exist in the current context",
     "output_type": "error",
     "traceback": [
      "(1,21): error CS0103: The name 'headerFooterPolicy' does not exist in the current context\r\n",
      "(1,53): error CS0103: The name 'XWPFHeaderFooterPolicy' does not exist in the current context"
     ]
    }
   ],
   "source": [
    "XWPFHeader header = headerFooterPolicy.CreateHeader(XWPFHeaderFooterPolicy.DEFAULT);\n",
    "paragraph = header.GetParagraphArray(0);\n",
    "if (paragraph == null) paragraph = header.CreateParagraph();\n",
    "paragraph.Alignment = ParagraphAlignment.LEFT;\n",
    "\n",
    "run = paragraph.CreateRun();\n",
    "run.SetText(\"The Header:\");"
   ]
  },
  {
   "cell_type": "markdown",
   "id": "4d8fda90",
   "metadata": {},
   "source": [
    "create footer"
   ]
  },
  {
   "cell_type": "code",
   "execution_count": 8,
   "id": "f921d784",
   "metadata": {
    "vscode": {
     "languageId": "polyglot-notebook"
    }
   },
   "outputs": [
    {
     "ename": "Error",
     "evalue": "(1,22): error CS0103: The name 'headerFooterPolicy' does not exist in the current context\r\n(1,54): error CS0103: The name 'XWPFHeaderFooterPolicy' does not exist in the current context",
     "output_type": "error",
     "traceback": [
      "(1,22): error CS0103: The name 'headerFooterPolicy' does not exist in the current context\r\n",
      "(1,54): error CS0103: The name 'XWPFHeaderFooterPolicy' does not exist in the current context"
     ]
    }
   ],
   "source": [
    " XWPFFooter footer = headerFooterPolicy.CreateFooter(XWPFHeaderFooterPolicy.DEFAULT);\n",
    "\n",
    "paragraph = footer.GetParagraphArray(0);\n",
    "if (paragraph == null) paragraph = footer.CreateParagraph();\n",
    "paragraph.Alignment = ParagraphAlignment.CENTER;\n",
    "\n",
    "run = paragraph.CreateRun();\n",
    "run.SetText(\"Page \");\n",
    "paragraph.GetCTP().AddNewFldSimple().instr = \"PAGE \\\\* MERGEFORMAT\";\n",
    "run = paragraph.CreateRun();\n",
    "run.SetText(\" of \");\n",
    "paragraph.GetCTP().AddNewFldSimple().instr = \"NUMPAGES \\\\* MERGEFORMAT\";"
   ]
  },
  {
   "cell_type": "code",
   "execution_count": 9,
   "id": "a8a20242",
   "metadata": {
    "vscode": {
     "languageId": "polyglot-notebook"
    }
   },
   "outputs": [],
   "source": [
    "using (var fs = new FileStream(\"sample.docx\", FileMode.Create))\n",
    "{\n",
    "    doc.Write(fs);\n",
    "}"
   ]
  }
 ],
 "metadata": {
  "kernelspec": {
   "display_name": ".NET (C#)",
   "language": "C#",
   "name": ".net-csharp"
  },
  "language_info": {
   "name": "python"
  },
  "polyglot_notebook": {
   "kernelInfo": {
    "defaultKernelName": "csharp",
    "items": [
     {
      "aliases": [],
      "name": "csharp"
     }
    ]
   }
  }
 },
 "nbformat": 4,
 "nbformat_minor": 5
}

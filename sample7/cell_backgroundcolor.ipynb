{
 "cells": [
  {
   "cell_type": "markdown",
   "metadata": {},
   "source": [
    "Create a new Excel file"
   ]
  },
  {
   "cell_type": "code",
   "execution_count": 25,
   "metadata": {
    "dotnet_interactive": {
     "language": "csharp"
    },
    "polyglot_notebook": {
     "kernelName": "csharp"
    },
    "vscode": {
     "languageId": "polyglot-notebook"
    }
   },
   "outputs": [
    {
     "data": {
      "text/html": [
       "<div><div></div><div></div><div><strong>Installed Packages</strong><ul><li><span>NPOI, 2.7.2</span></li></ul></div></div>"
      ]
     },
     "metadata": {},
     "output_type": "display_data"
    }
   ],
   "source": [
    "#r \"nuget:NPOI\"\n",
    "\n",
    "using NPOI.XSSF.UserModel;\n",
    "using System.IO;\n",
    "using NPOI.SS.UserModel;\n",
    "\n",
    "var workbook = new XSSFWorkbook();\n",
    "var sheet = workbook.CreateSheet(\"Sheet1\");"
   ]
  },
  {
   "cell_type": "markdown",
   "metadata": {},
   "source": [
    "Set solid background for cell A1"
   ]
  },
  {
   "cell_type": "code",
   "execution_count": 26,
   "metadata": {
    "dotnet_interactive": {
     "language": "csharp"
    },
    "polyglot_notebook": {
     "kernelName": "csharp"
    },
    "vscode": {
     "languageId": "polyglot-notebook"
    }
   },
   "outputs": [],
   "source": [
    "var cell1 = sheet.CreateRow(0).CreateCell(0);\n",
    "var cellstyle1 = workbook.CreateCellStyle();\n",
    "cellstyle1.FillPattern = FillPattern.SolidForeground;\n",
    "cellstyle1.FillForegroundColor = IndexedColors.Yellow.Index;\n",
    "cell1.CellStyle = cellstyle1;"
   ]
  },
  {
   "cell_type": "markdown",
   "metadata": {},
   "source": [
    "Set cell A2 with two color pattern, which has both foreground color and background color"
   ]
  },
  {
   "cell_type": "code",
   "execution_count": 27,
   "metadata": {
    "dotnet_interactive": {
     "language": "csharp"
    },
    "polyglot_notebook": {
     "kernelName": "csharp"
    },
    "vscode": {
     "languageId": "polyglot-notebook"
    }
   },
   "outputs": [],
   "source": [
    "var cell2 = sheet.CreateRow(1).CreateCell(0);\n",
    "var cellstyle2 = workbook.CreateCellStyle();\n",
    "cellstyle2.FillPattern = FillPattern.BigSpots;\n",
    "cellstyle2.FillForegroundColor = IndexedColors.Blue.Index;   //background color in Excel\n",
    "cellstyle2.FillBackgroundColor = IndexedColors.Yellow.Index; //pattern color in Excel\n",
    "cell2.CellStyle = cellstyle2;"
   ]
  },
  {
   "cell_type": "markdown",
   "metadata": {},
   "source": [
    "Save to Excel file named \"sample.xlsx\""
   ]
  },
  {
   "cell_type": "code",
   "execution_count": 28,
   "metadata": {
    "dotnet_interactive": {
     "language": "csharp"
    },
    "polyglot_notebook": {
     "kernelName": "csharp"
    },
    "vscode": {
     "languageId": "polyglot-notebook"
    }
   },
   "outputs": [],
   "source": [
    "\n",
    "using(var file = File.Create(\"sample.xlsx\"))\n",
    "{\n",
    "     workbook.Write(file);\n",
    "}"
   ]
  }
 ],
 "metadata": {
  "kernelspec": {
   "display_name": ".NET (C#)",
   "language": "C#",
   "name": ".net-csharp"
  },
  "language_info": {
   "name": "python"
  },
  "polyglot_notebook": {
   "kernelInfo": {
    "defaultKernelName": "csharp",
    "items": [
     {
      "aliases": [],
      "name": "csharp"
     }
    ]
   }
  }
 },
 "nbformat": 4,
 "nbformat_minor": 2
}
